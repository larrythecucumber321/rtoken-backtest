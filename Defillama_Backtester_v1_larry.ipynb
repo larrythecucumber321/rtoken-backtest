{
  "cells": [
    {
      "attachments": {},
      "cell_type": "markdown",
      "id": "78e893fc",
      "metadata": {},
      "source": [
        "---\n",
        "title: RToken Backtester \n",
        "description: Backtest RToken yields with Defillama historical data\n",
        "show-code: False\n",
        "params:\n",
        "    token0:\n",
        "        input: select\n",
        "        label: Please select a collateral asset\n",
        "        choices: ['MIM-3CRV (Convex)', 'FRAX-USDC (Convex)', 'ALUSD-3CRV (Convex)', 'DAI (Compound)', 'USDC (Compound)', 'OHM-FRAXBP (Curve)', 'USDC (Aave)', 'USDT (Aave)', 'BUSD (Aave)', 'USDC-USDT (Uniswap V3)', 'BUSD-USDC (Uniswap V3)', 'USDC-USDT (Uniswap V2)', 'OHM-DAI (Balancer)', 'OHM-WETH (Balancer)', 'STETH']\n",
        "    token1:\n",
        "        input: select\n",
        "        label: Please select a collateral asset\n",
        "        choices: ['MIM-3CRV (Convex)', 'FRAX-USDC (Convex)', 'ALUSD-3CRV (Convex)', 'DAI (Compound)', 'USDC (Compound)', 'OHM-FRAXBP (Curve)', 'USDC (Aave)', 'USDT (Aave)', 'BUSD (Aave)', 'USDC-USDT (Uniswap V3)', 'BUSD-USDC (Uniswap V3)', 'USDC-USDT (Uniswap V2)', 'OHM-DAI (Balancer)', 'OHM-WETH (Balancer)', 'STETH']\n",
        "---"
      ]
    },
    {
      "cell_type": "code",
      "execution_count": null,
      "id": "711ab712",
      "metadata": {},
      "outputs": [],
      "source": [
        "import pandas as pd\n",
        "import numpy as np\n",
        "import requests as req\n",
        "import seaborn as sns\n",
        "import matplotlib.pyplot as plt"
      ]
    },
    {
      "cell_type": "code",
      "execution_count": 3,
      "id": "29b6f635",
      "metadata": {},
      "outputs": [],
      "source": [
        "pool_dict = {\n",
        "    \"MIM-3CRV (Convex)\": \"8a20c472-142c-4442-b724-40f2183c073e\",\n",
        "    \"FRAX-USDC (Convex)\": \"bd072651-d99c-4154-aeae-51f12109c054\",\n",
        "    \"ALUSD-3CRV (Convex)\": \"f11aa021-e4c1-49f9-8004-9cf5625dedae\",\n",
        "    \"DAI (Compound)\": \"cc110152-36c2-4e10-9c12-c5b4eb662143\",\n",
        "    \"USDC (Compound)\": \"7da72d09-56ca-4ec5-a45f-59114353e487\",\n",
        "    \"OHM-FRAXBP (Curve)\": \"652ec67f-20b1-4138-8fc3-d78458f47e1a\",\n",
        "    \"USDC (Aave)\": \"a349fea4-d780-4e16-973e-70ca9b606db2\",\n",
        "    \"USDT (Aave)\": \"60d657c9-5f63-4771-a85b-2cf8d507ec00\",\n",
        "    \"BUSD (Aave)\": \"fd700196-ace0-4adc-8c91-6da04acb4ec3\",\n",
        "    \"USDC-USDT (Uniswap V3)\": \"e737d721-f45c-40f0-9793-9f56261862b9\",\n",
        "    \"BUSD-USDC (Uniswap V3)\": \"4bb8783d-9919-4a8e-980e-546401a67f63\",\n",
        "    \"USDC-USDT (Uniswap V2)\": \"e2c09021-0aa8-42b6-a596-5422c2e35399\",\n",
        "    \"OHM-DAI (Balancer)\": \"645dffc4-fe90-4c8b-9c17-fd8f2143a5fe\",\n",
        "    \"OHM-WETH (Balancer)\": \"ad68c6ce-699a-4c00-986f-5f92e38c1ac1\",\n",
        "    \"STETH\": \"747c1d2a-c668-4682-b9f9-296708a3dd90\"\n",
        "}"
      ]
    },
    {
      "cell_type": "code",
      "execution_count": 112,
      "id": "61fbaa21",
      "metadata": {
        "id": "61fbaa21"
      },
      "outputs": [],
      "source": [
        "# Raw pool data in dictionaries \n",
        "\n",
        "pool_dict_raw = dict(pd.DataFrame(req.get('https://yields.llama.fi/pools').json())['data'])\n",
        "\n",
        "# Dataframe of raw data\n",
        "df_raw = pd.DataFrame.from_dict(pool_dict_raw, orient='index')\n",
        "df_raw = df_raw.sort_values(by ='tvlUsd', ascending = False)\n",
        "eth_pools = df_raw[df_raw.chain == 'Ethereum']"
      ]
    },
    {
      "cell_type": "code",
      "execution_count": null,
      "id": "0bd7a91e",
      "metadata": {},
      "outputs": [],
      "source": [
        "token0 = \"USDC (Compound V3)\"\n",
        "token1 = \"USDC (Compound V3)\""
      ]
    },
    {
      "cell_type": "code",
      "execution_count": 2,
      "id": "KIdARaPAL14o",
      "metadata": {
        "id": "KIdARaPAL14o"
      },
      "outputs": [
        {
          "ename": "NameError",
          "evalue": "name 'eth_pools' is not defined",
          "output_type": "error",
          "traceback": [
            "\u001b[0;31m---------------------------------------------------------------------------\u001b[0m",
            "\u001b[0;31mNameError\u001b[0m                                 Traceback (most recent call last)",
            "Cell \u001b[0;32mIn[2], line 32\u001b[0m\n\u001b[1;32m     29\u001b[0m \u001b[39m# eUSD Pool 2\u001b[39;00m\n\u001b[1;32m     30\u001b[0m e2 \u001b[39m=\u001b[39m [\u001b[39m'\u001b[39m\u001b[39m7da72d09-56ca-4ec5-a45f-59114353e487\u001b[39m\u001b[39m'\u001b[39m,\u001b[39m'\u001b[39m\u001b[39m60d657c9-5f63-4771-a85b-2cf8d507ec00\u001b[39m\u001b[39m'\u001b[39m,\u001b[39m'\u001b[39m\u001b[39mfd700196-ace0-4adc-8c91-6da04acb4ec3\u001b[39m\u001b[39m'\u001b[39m]\n\u001b[0;32m---> 32\u001b[0m pool_symbols \u001b[39m=\u001b[39m eth_pools[eth_pools\u001b[39m.\u001b[39mpool\u001b[39m.\u001b[39misin(e2)][[\u001b[39m'\u001b[39m\u001b[39mproject\u001b[39m\u001b[39m'\u001b[39m,\u001b[39m'\u001b[39m\u001b[39msymbol\u001b[39m\u001b[39m'\u001b[39m,\u001b[39m'\u001b[39m\u001b[39mpool\u001b[39m\u001b[39m'\u001b[39m, \u001b[39m'\u001b[39m\u001b[39mtvlUsd\u001b[39m\u001b[39m'\u001b[39m,\u001b[39m'\u001b[39m\u001b[39mapy\u001b[39m\u001b[39m'\u001b[39m]]\n",
            "\u001b[0;31mNameError\u001b[0m: name 'eth_pools' is not defined"
          ]
        }
      ],
      "source": [
        "# or Create custom basket manually \n",
        "# eth_pools[(eth_pools.apyBase > min_apy) & \n",
        "#                          (eth_pools.stablecoin == is_stablecoin) & \n",
        "#           (eth_pools.tvlUsd > min_tvl)].sort_values(sort_by, ascending=False).head(top_x)[['project','symbol','pool', 'tvlUsd','apy']]\n",
        "\n",
        "\n",
        "# custom list \n",
        "\n",
        "# olympus pool\n",
        "l = ['bd072651-d99c-4154-aeae-51f12109c054', 'cc110152-36c2-4e10-9c12-c5b4eb662143',\n",
        "     'e737d721-f45c-40f0-9793-9f56261862b9', '60d657c9-5f63-4771-a85b-2cf8d507ec00',\n",
        "    'cefa9bb8-c230-459a-a855-3b94e96acd8c', 'f11aa021-e4c1-49f9-8004-9cf5625dedae']\n",
        "\n",
        "\n",
        "# OHM pools     'ad68c6ce-699a-4c00-986f-5f92e38c1ac1', '645dffc4-fe90-4c8b-9c17-fd8f2143a5fe']\n",
        "\n",
        "#compound RToken\n",
        "c = ['3f6aa14f-eb0c-4738-bf74-8bc666f7d2b1', 'bd072651-d99c-4154-aeae-51f12109c054',\n",
        "     '8a20c472-142c-4442-b724-40f2183c073e', 'cefa9bb8-c230-459a-a855-3b94e96acd8c',\n",
        "     'cc110152-36c2-4e10-9c12-c5b4eb662143','e737d721-f45c-40f0-9793-9f56261862b9',\n",
        "     '57647093-2868-4e65-97ab-9cae8ec74e7d', '7da72d09-56ca-4ec5-a45f-59114353e487',\n",
        "     '60d657c9-5f63-4771-a85b-2cf8d507ec00']\n",
        "\n",
        "# eUSD Pool 1\n",
        "e1 = ['cefa9bb8-c230-459a-a855-3b94e96acd8c','e737d721-f45c-40f0-9793-9f56261862b9','a349fea4-d780-4e16-973e-70ca9b606db2',\n",
        "'60d657c9-5f63-4771-a85b-2cf8d507ec00','57647093-2868-4e65-97ab-9cae8ec74e7d','7da72d09-56ca-4ec5-a45f-59114353e487',\n",
        "'e2c09021-0aa8-42b6-a596-5422c2e35399','4bb8783d-9919-4a8e-980e-546401a67f63', 'fd700196-ace0-4adc-8c91-6da04acb4ec3']\n",
        "\n",
        "# eUSD Pool 2\n",
        "e2 = ['7da72d09-56ca-4ec5-a45f-59114353e487','60d657c9-5f63-4771-a85b-2cf8d507ec00','fd700196-ace0-4adc-8c91-6da04acb4ec3']\n",
        "\n",
        "bespoke = [\"7da72d09-56ca-4ec5-a45f-59114353e487\", pool_dict[token0], pool_dict[token1] ]\n",
        "pool_symbols = eth_pools[eth_pools.pool.isin(bespoke)][['project','symbol','pool', 'tvlUsd','apy']]\n"
      ]
    },
    {
      "attachments": {},
      "cell_type": "markdown",
      "id": "4b27282c",
      "metadata": {
        "id": "4b27282c"
      },
      "source": [
        "## RToken Basket Composition"
      ]
    },
    {
      "cell_type": "code",
      "execution_count": 4,
      "id": "13522a10",
      "metadata": {
        "id": "13522a10",
        "scrolled": true
      },
      "outputs": [],
      "source": [
        "# Set Parameters for Basket\n",
        "\n",
        "min_apy = 0\n",
        "is_stablecoin = True\n",
        "min_tvl = 80000000\n",
        "top_x = 15\n",
        "sort_by = 'apy' # or tvlUsd or apy\n"
      ]
    },
    {
      "cell_type": "code",
      "execution_count": 118,
      "id": "7e4b2e6b",
      "metadata": {
        "id": "7e4b2e6b"
      },
      "outputs": [],
      "source": [
        "# Creates a table with pool symbol and pool ids to be later used for joining \n",
        "\n",
        "# pool_symbols = eth_pools[(eth_pools.apyBase > min_apy) & \n",
        "#                          (eth_pools.stablecoin == is_stablecoin) & \n",
        "#           (eth_pools.tvlUsd > min_tvl)].sort_values(sort_by, ascending=False).head(top_x)[['project','symbol','pool', 'tvlUsd','apy']]\n",
        "\n",
        "# calc for income\n",
        "pool_symbols['income'] = pool_symbols.tvlUsd * pool_symbols.apy\n",
        "\n",
        "# calc for income weighted basket based on current TVL and APY \n",
        "pool_symbols['income_basket_weight'] = round(pool_symbols.income / sum(pool_symbols.income),2)\n",
        "\n",
        "# concat the pool symbol to show pool and protocol\n",
        "pool_symbols['pool (protocol)'] = pool_symbols.symbol + \" (\" + pool_symbols.project + \")\"\n",
        "\n",
        "#drop columns that we no longer need\n",
        "pool_symbols= pool_symbols.drop(['tvlUsd','apy','income'], axis=1)\n",
        "\n",
        "\n"
      ]
    },
    {
      "cell_type": "code",
      "execution_count": 120,
      "id": "3678188e",
      "metadata": {
        "id": "3678188e"
      },
      "outputs": [],
      "source": [
        "# Insert custom basket weights\n",
        "custom_weights1 = [.12,.14,.11,.11,.11,.13,.10,.09,.09]\n",
        "\n",
        "custom_weights2 = .33\n",
        "pool_symbols.income_basket_weight = custom_weights2"
      ]
    },
    {
      "cell_type": "code",
      "execution_count": 121,
      "id": "c142ae1d",
      "metadata": {
        "id": "c142ae1d"
      },
      "outputs": [],
      "source": [
        "basket_pool_ids = list(pool_symbols.pool)"
      ]
    },
    {
      "cell_type": "code",
      "execution_count": 122,
      "id": "ba7a8595",
      "metadata": {
        "colab": {
          "base_uri": "https://localhost:8080/",
          "height": 257
        },
        "id": "ba7a8595",
        "outputId": "b138a9e3-72ce-4803-ef83-0d5a6d1d34ee"
      },
      "outputs": [
        {
          "data": {
            "text/html": [
              "\n",
              "  <div id=\"df-4d0e48e2-0121-4447-9708-8a6e472dee2d\">\n",
              "    <div class=\"colab-df-container\">\n",
              "      <div>\n",
              "<style scoped>\n",
              "    .dataframe tbody tr th:only-of-type {\n",
              "        vertical-align: middle;\n",
              "    }\n",
              "\n",
              "    .dataframe tbody tr th {\n",
              "        vertical-align: top;\n",
              "    }\n",
              "\n",
              "    .dataframe thead th {\n",
              "        text-align: right;\n",
              "    }\n",
              "</style>\n",
              "<table border=\"1\" class=\"dataframe\">\n",
              "  <thead>\n",
              "    <tr style=\"text-align: right;\">\n",
              "      <th></th>\n",
              "      <th>project</th>\n",
              "      <th>symbol</th>\n",
              "      <th>pool</th>\n",
              "      <th>income_basket_weight</th>\n",
              "      <th>pool (protocol)</th>\n",
              "    </tr>\n",
              "  </thead>\n",
              "  <tbody>\n",
              "    <tr>\n",
              "      <th>107</th>\n",
              "      <td>aave-v2</td>\n",
              "      <td>USDT</td>\n",
              "      <td>60d657c9-5f63-4771-a85b-2cf8d507ec00</td>\n",
              "      <td>0.33</td>\n",
              "      <td>USDT (aave-v2)</td>\n",
              "    </tr>\n",
              "    <tr>\n",
              "      <th>173</th>\n",
              "      <td>compound-v3</td>\n",
              "      <td>USDC</td>\n",
              "      <td>7da72d09-56ca-4ec5-a45f-59114353e487</td>\n",
              "      <td>0.33</td>\n",
              "      <td>USDC (compound-v3)</td>\n",
              "    </tr>\n",
              "    <tr>\n",
              "      <th>666</th>\n",
              "      <td>aave-v2</td>\n",
              "      <td>BUSD</td>\n",
              "      <td>fd700196-ace0-4adc-8c91-6da04acb4ec3</td>\n",
              "      <td>0.33</td>\n",
              "      <td>BUSD (aave-v2)</td>\n",
              "    </tr>\n",
              "  </tbody>\n",
              "</table>\n",
              "</div>\n",
              "      <button class=\"colab-df-convert\" onclick=\"convertToInteractive('df-4d0e48e2-0121-4447-9708-8a6e472dee2d')\"\n",
              "              title=\"Convert this dataframe to an interactive table.\"\n",
              "              style=\"display:none;\">\n",
              "        \n",
              "  <svg xmlns=\"http://www.w3.org/2000/svg\" height=\"24px\"viewBox=\"0 0 24 24\"\n",
              "       width=\"24px\">\n",
              "    <path d=\"M0 0h24v24H0V0z\" fill=\"none\"/>\n",
              "    <path d=\"M18.56 5.44l.94 2.06.94-2.06 2.06-.94-2.06-.94-.94-2.06-.94 2.06-2.06.94zm-11 1L8.5 8.5l.94-2.06 2.06-.94-2.06-.94L8.5 2.5l-.94 2.06-2.06.94zm10 10l.94 2.06.94-2.06 2.06-.94-2.06-.94-.94-2.06-.94 2.06-2.06.94z\"/><path d=\"M17.41 7.96l-1.37-1.37c-.4-.4-.92-.59-1.43-.59-.52 0-1.04.2-1.43.59L10.3 9.45l-7.72 7.72c-.78.78-.78 2.05 0 2.83L4 21.41c.39.39.9.59 1.41.59.51 0 1.02-.2 1.41-.59l7.78-7.78 2.81-2.81c.8-.78.8-2.07 0-2.86zM5.41 20L4 18.59l7.72-7.72 1.47 1.35L5.41 20z\"/>\n",
              "  </svg>\n",
              "      </button>\n",
              "      \n",
              "  <style>\n",
              "    .colab-df-container {\n",
              "      display:flex;\n",
              "      flex-wrap:wrap;\n",
              "      gap: 12px;\n",
              "    }\n",
              "\n",
              "    .colab-df-convert {\n",
              "      background-color: #E8F0FE;\n",
              "      border: none;\n",
              "      border-radius: 50%;\n",
              "      cursor: pointer;\n",
              "      display: none;\n",
              "      fill: #1967D2;\n",
              "      height: 32px;\n",
              "      padding: 0 0 0 0;\n",
              "      width: 32px;\n",
              "    }\n",
              "\n",
              "    .colab-df-convert:hover {\n",
              "      background-color: #E2EBFA;\n",
              "      box-shadow: 0px 1px 2px rgba(60, 64, 67, 0.3), 0px 1px 3px 1px rgba(60, 64, 67, 0.15);\n",
              "      fill: #174EA6;\n",
              "    }\n",
              "\n",
              "    [theme=dark] .colab-df-convert {\n",
              "      background-color: #3B4455;\n",
              "      fill: #D2E3FC;\n",
              "    }\n",
              "\n",
              "    [theme=dark] .colab-df-convert:hover {\n",
              "      background-color: #434B5C;\n",
              "      box-shadow: 0px 1px 3px 1px rgba(0, 0, 0, 0.15);\n",
              "      filter: drop-shadow(0px 1px 2px rgba(0, 0, 0, 0.3));\n",
              "      fill: #FFFFFF;\n",
              "    }\n",
              "  </style>\n",
              "\n",
              "      <script>\n",
              "        const buttonEl =\n",
              "          document.querySelector('#df-4d0e48e2-0121-4447-9708-8a6e472dee2d button.colab-df-convert');\n",
              "        buttonEl.style.display =\n",
              "          google.colab.kernel.accessAllowed ? 'block' : 'none';\n",
              "\n",
              "        async function convertToInteractive(key) {\n",
              "          const element = document.querySelector('#df-4d0e48e2-0121-4447-9708-8a6e472dee2d');\n",
              "          const dataTable =\n",
              "            await google.colab.kernel.invokeFunction('convertToInteractive',\n",
              "                                                     [key], {});\n",
              "          if (!dataTable) return;\n",
              "\n",
              "          const docLinkHtml = 'Like what you see? Visit the ' +\n",
              "            '<a target=\"_blank\" href=https://colab.research.google.com/notebooks/data_table.ipynb>data table notebook</a>'\n",
              "            + ' to learn more about interactive tables.';\n",
              "          element.innerHTML = '';\n",
              "          dataTable['output_type'] = 'display_data';\n",
              "          await google.colab.output.renderOutput(dataTable, element);\n",
              "          const docLink = document.createElement('div');\n",
              "          docLink.innerHTML = docLinkHtml;\n",
              "          element.appendChild(docLink);\n",
              "        }\n",
              "      </script>\n",
              "    </div>\n",
              "  </div>\n",
              "  "
            ],
            "text/plain": [
              "         project symbol                                  pool  \\\n",
              "107      aave-v2   USDT  60d657c9-5f63-4771-a85b-2cf8d507ec00   \n",
              "173  compound-v3   USDC  7da72d09-56ca-4ec5-a45f-59114353e487   \n",
              "666      aave-v2   BUSD  fd700196-ace0-4adc-8c91-6da04acb4ec3   \n",
              "\n",
              "     income_basket_weight     pool (protocol)  \n",
              "107                  0.33      USDT (aave-v2)  \n",
              "173                  0.33  USDC (compound-v3)  \n",
              "666                  0.33      BUSD (aave-v2)  "
            ]
          },
          "execution_count": 122,
          "metadata": {},
          "output_type": "execute_result"
        }
      ],
      "source": [
        "pool_symbols"
      ]
    },
    {
      "cell_type": "code",
      "execution_count": 123,
      "id": "e1ebd1f8",
      "metadata": {
        "id": "e1ebd1f8"
      },
      "outputs": [],
      "source": [
        "# Establishes a list of dataframes of historical data for each of the pools in the desired basket\n",
        "\n",
        "pool_dfs = []\n",
        "for i in basket_pool_ids:\n",
        "    data = pd.DataFrame()\n",
        "    data = pd.DataFrame(req.get('https://yields.llama.fi/chart/'+ str(i)).json()['data'])\n",
        "    data = data[['timestamp','tvlUsd','apy']]\n",
        "    data['timestamp'] = [i[0:10] for i in list(data.timestamp)]\n",
        "    data['timestamp'] = pd.to_datetime(data.timestamp)\n",
        "    data['pool_id'] = str(i)\n",
        "    \n",
        "    # joins pool symbol onto dataframe using pool id\n",
        "    data = pd.merge(data, pool_symbols, how='left', \n",
        "         left_on= 'pool_id', right_on='pool' )[['timestamp','tvlUsd','apy','income_basket_weight','pool (protocol)']]\n",
        "    \n",
        "    # adds column for portfolio yield contribution (apy * income_basket_weight)\n",
        "    data['portfolio_yield_contribution'] = data.iloc[:,2] * data.iloc[:,3]\n",
        "    \n",
        "    # renames columns to reflect pool symbol and drops pool symbol column\n",
        "    pool_protocol_string = data['pool (protocol)'][0]\n",
        "    data.columns = ['timestamp',  \n",
        "                      ('tvlUsd | ' + pool_protocol_string), \n",
        "                       ('apy | ' + pool_protocol_string),\n",
        "                    'income_basket_weight | ' + pool_protocol_string,\n",
        "                    'pool (protocol)',\n",
        "                   'portfolio_yield_contribution | ' + pool_protocol_string]\n",
        "    data = data.drop('pool (protocol)', axis=1)\n",
        "    \n",
        "    # creates and calculates column for income (apy column has more decimal points than shown, results in slight math discrepency on income)\n",
        "    #income_column_string = 'income | ' + pool_protocol_string\n",
        "    #data[income_column_string] = data.iloc[:, 1] * data.iloc[:, 2] / 100\n",
        "    \n",
        "    pool_dfs.append(data)"
      ]
    },
    {
      "cell_type": "code",
      "execution_count": 126,
      "id": "bec2d7af",
      "metadata": {
        "id": "bec2d7af"
      },
      "outputs": [],
      "source": [
        "# Creating master dataframe with historical data froma all pools, using the pool that has the least hisory as base\n",
        "\n",
        "from functools import reduce\n",
        "df = reduce(lambda x, y: pd.merge(x, y, on = 'timestamp', how ='left'), sorted(pool_dfs, key=len))"
      ]
    },
    {
      "cell_type": "code",
      "execution_count": 129,
      "id": "3b6b16fe",
      "metadata": {
        "id": "3b6b16fe"
      },
      "outputs": [],
      "source": [
        "tvl_cols = [col for col in df.columns if 'tvlUsd |' in col]\n",
        "apy_cols = [col for col in df.columns if 'apy |' in col]\n",
        "income_basket_cols = [col for col in df.columns if 'income_basket_weight |' in col]\n",
        "yield_contribution_cols = [col for col in df.columns if 'portfolio_yield_contribution |' in col]\n",
        "\n",
        "# total_income column is all the annualized incomes added together on a specific date\n",
        "df['total_portfolio_yield'] = df[yield_contribution_cols].sum(axis=1)"
      ]
    },
    {
      "attachments": {},
      "cell_type": "markdown",
      "id": "731da372",
      "metadata": {},
      "source": [
        "## Backtest Results"
      ]
    },
    {
      "cell_type": "code",
      "execution_count": 131,
      "id": "88f36a2f",
      "metadata": {
        "colab": {
          "base_uri": "https://localhost:8080/",
          "height": 370
        },
        "id": "88f36a2f",
        "outputId": "66c7e782-53c6-4d25-ca18-4fae5e459b19"
      },
      "outputs": [
        {
          "data": {
            "text/plain": [
              "(array([738429., 738443., 738460., 738474., 738490., 738504., 738521.,\n",
              "        738535., 738552.]), <a list of 9 Text major ticklabel objects>)"
            ]
          },
          "execution_count": 131,
          "metadata": {},
          "output_type": "execute_result"
        },
        {
          "data": {
            "image/png": "[encoded data removed]",
            "text/plain": [
              "<Figure size 432x288 with 1 Axes>"
            ]
          },
          "metadata": {
            "needs_background": "light"
          },
          "output_type": "display_data"
        }
      ],
      "source": [
        "sns.lineplot(x = \"timestamp\", y = \"total_portfolio_yield\",\n",
        "             data = df[df.total_portfolio_yield <10])\n",
        "sns.lineplot(x = \"timestamp\", y = \"apy | USDC (compound-v3)\",\n",
        "              data = df)\n",
        "plt.title('Basket Performance Over Time')\n",
        "plt.ylabel('APY')\n",
        "plt.xlabel('Date')\n",
        "plt.legend(['RToken Basket','Compound USDC'])\n",
        "plt.xticks(rotation = 45)\n",
        "plt.figure(figsize=(20,10))\n",
        "print('')"
      ]
    }
  ],
  "metadata": {
    "colab": {
      "provenance": [],
      "toc_visible": true
    },
    "kernelspec": {
      "display_name": "Python 3",
      "language": "python",
      "name": "python3"
    },
    "language_info": {
      "codemirror_mode": {
        "name": "ipython",
        "version": 3
      },
      "file_extension": ".py",
      "mimetype": "text/x-python",
      "name": "python",
      "nbconvert_exporter": "python",
      "pygments_lexer": "ipython3",
      "version": "3.9.16 (main, Jan 27 2023, 19:06:42) \n[Clang 13.1.6 (clang-1316.0.21.2.5)]"
    },
    "vscode": {
      "interpreter": {
        "hash": "9ee35ba38847b0e3939fc8d1af66178701fcb17221e967f10d26124b2f829b18"
      }
    }
  },
  "nbformat": 4,
  "nbformat_minor": 5
}
