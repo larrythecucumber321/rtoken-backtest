{
  "cells": [
    {
      "attachments": {},
      "cell_type": "markdown",
      "id": "78e893fc",
      "metadata": {},
      "source": [
        "---\n",
        "title: RToken Backtester \n",
        "description: Backtest RToken yields with Defillama historical data\n",
        "show-code: False\n",
        "params:\n",
        "    is_custom_weights:\n",
        "        label: Use custom basket weights (default is income-weighted)\n",
        "        input: checkbox\n",
        "        value: False    \n",
        "    basket_weights:\n",
        "        input: text\n",
        "        label: Basket weights (comma-separated as %)\n",
        "    basket_tokens:\n",
        "        input: select\n",
        "        label: Select collateral assets\n",
        "        multi: True\n",
        "        choices: ['MIM-3CRV (Convex)', 'FRAX-USDC (Convex)', 'ALUSD-3CRV (Convex)', 'OHM-FRAXBP (Curve)', 'DAI (Compound)', 'USDC (Compound)', 'USDC (Aave)', 'USDT (Aave)', 'BUSD (Aave)', 'USDC-USDT (Uniswap V3)', 'BUSD-USDC (Uniswap V3)', 'USDC-USDT (Uniswap V2)', 'OHM-DAI (Balancer)', 'OHM-WETH (Balancer)', 'USDC (Goldfinch)', 'USDC (Stargate)', 'STETH']\n",
        "    reference_token:\n",
        "        input: select\n",
        "        label: Select reference asset\n",
        "        choices: ['MIM-3CRV (Convex)', 'FRAX-USDC (Convex)', 'ALUSD-3CRV (Convex)', 'OHM-FRAXBP (Curve)', 'DAI (Compound)', 'USDC (Compound)', 'USDC (Aave)', 'USDT (Aave)', 'BUSD (Aave)', 'USDC-USDT (Uniswap V3)', 'BUSD-USDC (Uniswap V3)', 'USDC-USDT (Uniswap V2)', 'OHM-DAI (Balancer)', 'OHM-WETH (Balancer)', 'USDC (Goldfinch)', 'USDC (Stargate)', 'STETH']\n",
        "---"
      ]
    },
    {
      "cell_type": "code",
      "execution_count": null,
      "id": "711ab712",
      "metadata": {},
      "outputs": [],
      "source": [
        "import pandas as pd\n",
        "import numpy as np\n",
        "import requests as req\n",
        "import seaborn as sns\n",
        "import matplotlib.pyplot as plt"
      ]
    },
    {
      "cell_type": "code",
      "execution_count": null,
      "id": "29b6f635",
      "metadata": {},
      "outputs": [],
      "source": [
        "pool_dict = {\n",
        "    \"MIM-3CRV (Convex)\": \"8a20c472-142c-4442-b724-40f2183c073e\",\n",
        "    \"FRAX-USDC (Convex)\": \"bd072651-d99c-4154-aeae-51f12109c054\",\n",
        "    \"ALUSD-3CRV (Convex)\": \"f11aa021-e4c1-49f9-8004-9cf5625dedae\",\n",
        "    \"OHM-FRAXBP (Curve)\": \"652ec67f-20b1-4138-8fc3-d78458f47e1a\",\n",
        "    \"DAI (Compound)\": \"cc110152-36c2-4e10-9c12-c5b4eb662143\",\n",
        "    \"USDC (Compound)\": \"7da72d09-56ca-4ec5-a45f-59114353e487\",\n",
        "    \"USDC (Aave)\": \"a349fea4-d780-4e16-973e-70ca9b606db2\",\n",
        "    \"USDT (Aave)\": \"60d657c9-5f63-4771-a85b-2cf8d507ec00\",\n",
        "    \"BUSD (Aave)\": \"fd700196-ace0-4adc-8c91-6da04acb4ec3\",\n",
        "    \"USDC-USDT (Uniswap V3)\": \"e737d721-f45c-40f0-9793-9f56261862b9\",\n",
        "    \"BUSD-USDC (Uniswap V3)\": \"4bb8783d-9919-4a8e-980e-546401a67f63\",\n",
        "    \"USDC-USDT (Uniswap V2)\": \"e2c09021-0aa8-42b6-a596-5422c2e35399\",\n",
        "    \"OHM-DAI (Balancer)\": \"645dffc4-fe90-4c8b-9c17-fd8f2143a5fe\",\n",
        "    \"OHM-WETH (Balancer)\": \"ad68c6ce-699a-4c00-986f-5f92e38c1ac1\",\n",
        "    \"USDC (Goldfinch)\": \"c89af47f-032a-4c59-bdc9-17a7f1514a3b\",\n",
        "    \"USDC (Stargate)\": \"c24d9138-51aa-48f4-a445-7f33bf7bf5fb\",\n",
        "    \"STETH\": \"747c1d2a-c668-4682-b9f9-296708a3dd90\"\n",
        "}\n"
      ]
    },
    {
      "cell_type": "code",
      "execution_count": null,
      "id": "61fbaa21",
      "metadata": {
        "id": "61fbaa21"
      },
      "outputs": [],
      "source": [
        "# Raw pool data in dictionaries \n",
        "\n",
        "pool_dict_raw = dict(pd.DataFrame(req.get('https://yields.llama.fi/pools').json())['data'])\n",
        "\n",
        "# Dataframe of raw data\n",
        "df_raw = pd.DataFrame.from_dict(pool_dict_raw, orient='index')\n",
        "df_raw = df_raw.sort_values(by ='tvlUsd', ascending = False)\n",
        "eth_pools = df_raw[df_raw.chain == 'Ethereum']"
      ]
    },
    {
      "cell_type": "code",
      "execution_count": null,
      "id": "13522a10",
      "metadata": {
        "id": "13522a10",
        "scrolled": true
      },
      "outputs": [],
      "source": [
        "# Set Parameters for Basket\n",
        "\n",
        "min_apy = 0\n",
        "is_stablecoin = True\n",
        "min_tvl = 80000000\n",
        "top_x = 15\n",
        "sort_by = 'apy' # or tvlUsd or apy"
      ]
    },
    {
      "cell_type": "code",
      "execution_count": null,
      "id": "cfe6871c",
      "metadata": {},
      "outputs": [],
      "source": [
        "basket_tokens = []\n",
        "reference_token = \"USDC (Compound)\"\n",
        "basket_weights = \"\"\n",
        "is_custom_weights = False"
      ]
    },
    {
      "cell_type": "code",
      "execution_count": null,
      "id": "53875aff",
      "metadata": {},
      "outputs": [],
      "source": [
        "using_custom_weights = is_custom_weights and len(basket_tokens) == len(basket_weights.split(','))\n",
        "\n",
        "benchmark = pool_dict[reference_token]\n",
        "bespoke = [pool_dict[token] for token in basket_tokens]\n",
        "weights = [float(weight) if using_custom_weights else 0 for weight in basket_weights.split(',')]\n",
        "normalized_weights = [weight/sum(weights) for weight in weights if using_custom_weights]\n",
        "\n",
        "pool_symbols = eth_pools[eth_pools.pool.isin(bespoke)][['project','symbol','pool', 'tvlUsd','apy']]\n",
        "benchmark_symbols = eth_pools[eth_pools.pool == benchmark][['project','symbol','pool', 'tvlUsd','apy']]"
      ]
    },
    {
      "cell_type": "code",
      "execution_count": null,
      "id": "7e4b2e6b",
      "metadata": {
        "id": "7e4b2e6b"
      },
      "outputs": [],
      "source": [
        "# Creates a table with pool symbol and pool ids to be later used for joining \n",
        "\n",
        "def symbol_ops(df):\n",
        "    # calc for income\n",
        "    df['income'] = df.tvlUsd * df.apy\n",
        "\n",
        "    # calc for income weighted basket based on current TVL and APY \n",
        "    df['income_basket_weight'] = round(df.income / sum(df.income),2)\n",
        "        \n",
        "    # concat the pool symbol to show pool and protocol\n",
        "    df['pool (protocol)'] = df.symbol + \" (\" + df.project + \")\"\n",
        "\n",
        "    #drop columns that we no longer need\n",
        "    df= df.drop(['tvlUsd','apy','income'], axis=1)\n",
        "    \n",
        "    return df\n",
        "    \n",
        "\n",
        "# Establishes a list of dataframes of historical data for each of the pools in the desired basket\n",
        "# Input is the dataframe returned by symbol_ops() \n",
        "\n",
        "def create_historical_dfs(df):\n",
        "    basket_pool_ids = list(df.pool)\n",
        "    \n",
        "    pool_dfs = []\n",
        "    for i in basket_pool_ids:\n",
        "        data = pd.DataFrame()\n",
        "        data = pd.DataFrame(req.get('https://yields.llama.fi/chart/'+ str(i)).json()['data'])\n",
        "        data = data[['timestamp','tvlUsd','apy']]\n",
        "        data['timestamp'] = [i[0:10] for i in list(data.timestamp)]\n",
        "        data['timestamp'] = pd.to_datetime(data.timestamp)\n",
        "        data['pool_id'] = str(i)\n",
        "\n",
        "        # joins pool symbol onto dataframe using pool id\n",
        "        data = pd.merge(data, df, how='left', \n",
        "             left_on= 'pool_id', right_on='pool' )[['timestamp','tvlUsd','apy','income_basket_weight','pool (protocol)']]\n",
        "\n",
        "        # adds column for portfolio yield contribution (apy * income_basket_weight)\n",
        "        data['portfolio_yield_contribution'] = data.iloc[:,2] * data.iloc[:,3]\n",
        "\n",
        "        # renames columns to reflect pool symbol and drops pool symbol column\n",
        "        pool_protocol_string = data['pool (protocol)'][0]\n",
        "        data.columns = ['timestamp',  \n",
        "                          ('tvlUsd | ' + pool_protocol_string), \n",
        "                           ('apy | ' + pool_protocol_string),\n",
        "                        'income_basket_weight | ' + pool_protocol_string,\n",
        "                        'pool (protocol)',\n",
        "                       'portfolio_yield_contribution | ' + pool_protocol_string]\n",
        "        data = data.drop('pool (protocol)', axis=1)\n",
        "\n",
        "        # creates and calculates column for income (apy column has more decimal points than shown, results in slight math discrepency on income)\n",
        "        #income_column_string = 'income | ' + pool_protocol_string\n",
        "        #data[income_column_string] = data.iloc[:, 1] * data.iloc[:, 2] / 100\n",
        "\n",
        "        pool_dfs.append(data)\n",
        "        \n",
        "    return pool_dfs\n",
        "\n",
        "\n",
        "#Checks to see which pool within the basket has the least amount of historical data\n",
        "# Input is the list of dfs returned by create_historical_dfs()\n",
        "def count_days_by_pool(pool_dfs_list):\n",
        "    for i in pool_dfs_list:\n",
        "        print( (list(i)[1][8:], ' : ', len(i)))\n",
        "\n",
        "\n",
        "        \n",
        "# Creates master dataframe with historical data froma all pools, using the pool that has the least hisory as base, \n",
        "# and caluculates the total_portfolio_yield for each day\n",
        "\n",
        "# Input is the list of dfs returned by create_historical_dfs()\n",
        "\n",
        "def calc_master_df(pool_dfs_list):\n",
        "    from functools import reduce\n",
        "    df_master = reduce(lambda x, y: pd.merge(x, y, on = 'timestamp', how ='left'), sorted(pool_dfs_list, key=len))\n",
        "    \n",
        "    yield_contribution_cols = [col for col in df_master.columns if 'portfolio_yield_contribution |' in col]\n",
        "\n",
        "    # caluculates the total_portfolio_yield for each day\n",
        "    df_master['total_portfolio_yield'] = df_master[yield_contribution_cols].sum(axis=1)\n",
        "    \n",
        "    return df_master"
      ]
    },
    {
      "cell_type": "code",
      "execution_count": null,
      "id": "e1ebd1f8",
      "metadata": {
        "id": "e1ebd1f8"
      },
      "outputs": [],
      "source": [
        "pool_symbols = symbol_ops(pool_symbols)\n",
        "if(using_custom_weights):\n",
        "    pool_symbols['income_basket_weight'] = normalized_weights\n",
        "    \n",
        "benchmark_symbols = symbol_ops(benchmark_symbols)\n"
      ]
    },
    {
      "attachments": {},
      "cell_type": "markdown",
      "id": "c271df56",
      "metadata": {},
      "source": [
        "## RToken Basket Composition"
      ]
    },
    {
      "cell_type": "code",
      "execution_count": null,
      "id": "0c49bb33",
      "metadata": {},
      "outputs": [],
      "source": [
        "pool_symbols"
      ]
    },
    {
      "attachments": {},
      "cell_type": "markdown",
      "id": "813e005e",
      "metadata": {},
      "source": [
        "## Benchmark"
      ]
    },
    {
      "cell_type": "code",
      "execution_count": null,
      "id": "494e0663",
      "metadata": {},
      "outputs": [],
      "source": [
        "benchmark_symbols"
      ]
    },
    {
      "cell_type": "code",
      "execution_count": null,
      "id": "f356e96f",
      "metadata": {},
      "outputs": [],
      "source": [
        "pool_dfs_basket = create_historical_dfs(pool_symbols)\n",
        "pool_dfs_benchmark = create_historical_dfs(benchmark_symbols)"
      ]
    },
    {
      "cell_type": "code",
      "execution_count": null,
      "id": "bec2d7af",
      "metadata": {
        "id": "bec2d7af"
      },
      "outputs": [],
      "source": [
        "df = calc_master_df(pool_dfs_basket)\n",
        "\n",
        "df_benchmark = calc_master_df(pool_dfs_benchmark)\n",
        "\n",
        "# makes basket and benchmark dataframes the same length\n",
        "num_days_of_data = min(len(df),len(df_benchmark))\n",
        "\n",
        "df = df.tail(num_days_of_data)\n",
        "df_benchmark = df_benchmark.tail(num_days_of_data)"
      ]
    },
    {
      "attachments": {},
      "cell_type": "markdown",
      "id": "731da372",
      "metadata": {},
      "source": [
        "## Backtest Results"
      ]
    },
    {
      "cell_type": "code",
      "execution_count": null,
      "id": "88f36a2f",
      "metadata": {
        "colab": {
          "base_uri": "https://localhost:8080/",
          "height": 370
        },
        "id": "88f36a2f",
        "outputId": "66c7e782-53c6-4d25-ca18-4fae5e459b19"
      },
      "outputs": [],
      "source": [
        "_ = sns.lineplot(x = \"timestamp\", y = \"total_portfolio_yield\",\n",
        "             data = df)\n",
        "_ = sns.lineplot(x = \"timestamp\", y = \"total_portfolio_yield\",\n",
        "                data = df_benchmark, color=\"orange\")\n",
        "_ = plt.title('Benchmark Yield Over Time')\n",
        "_ = plt.ylabel('APY')\n",
        "_ = plt.xlabel('Date')\n",
        "_ = plt.legend(['RToken Basket Yield','Benchmark'])\n",
        "_ = plt.xticks(rotation = 45)\n"
      ]
    }
  ],
  "metadata": {
    "colab": {
      "provenance": [],
      "toc_visible": true
    },
    "kernelspec": {
      "display_name": "Python 3",
      "language": "python",
      "name": "python3"
    },
    "language_info": {
      "codemirror_mode": {
        "name": "ipython",
        "version": 3
      },
      "file_extension": ".py",
      "mimetype": "text/x-python",
      "name": "python",
      "nbconvert_exporter": "python",
      "pygments_lexer": "ipython3",
      "version": "3.9.16"
    },
    "vscode": {
      "interpreter": {
        "hash": "9ee35ba38847b0e3939fc8d1af66178701fcb17221e967f10d26124b2f829b18"
      }
    }
  },
  "nbformat": 4,
  "nbformat_minor": 5
}
